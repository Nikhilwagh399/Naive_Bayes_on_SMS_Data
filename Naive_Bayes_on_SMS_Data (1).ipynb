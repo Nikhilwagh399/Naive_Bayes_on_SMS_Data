{
 "cells": [
  {
   "cell_type": "code",
   "execution_count": null,
   "id": "3afc11be",
   "metadata": {
    "id": "3afc11be"
   },
   "outputs": [],
   "source": [
    "#Data Handeling and Manipulation\n",
    "import pandas as pd\n",
    "import numpy as np\n",
    "\n",
    "#Data Preprocessing Libraries\n",
    "from sklearn.preprocessing import LabelEncoder #ordinal encoding, #one hot encoding\n",
    "\n",
    "#count vectorizer in excel to understand how it works in the backend.\n",
    "from sklearn.feature_extraction.text import CountVectorizer\n",
    "from sklearn.model_selection import train_test_split #70%data in training, #30%test #80-20, 90-10\n",
    "from sklearn.naive_bayes import MultinomialNB #Multinomial Naive bayes algorithm.\n",
    "\n",
    "\n",
    "#evaluation metrics #r2, Rmse(evaluation metrics)\n",
    "from sklearn.metrics import accuracy_score"
   ]
  },
  {
   "cell_type": "code",
   "execution_count": null,
   "id": "75453c8f",
   "metadata": {
    "id": "75453c8f"
   },
   "outputs": [],
   "source": [
    "df = pd.read_table('SMSSpamCollection (1).txt', names = ['label' , 'message'])"
   ]
  },
  {
   "cell_type": "code",
   "execution_count": null,
   "id": "4ec2176f",
   "metadata": {
    "id": "4ec2176f"
   },
   "outputs": [],
   "source": [
    "#Problem statement- is based on the message, you have to categorize the data into spam or ham."
   ]
  },
  {
   "cell_type": "markdown",
   "id": "80811ef1",
   "metadata": {
    "id": "80811ef1"
   },
   "source": [
    "### Gmail, spam, junk,\n",
    "- NLP(word2vec)\n",
    "- Google excellent, smart(e.g Delhi, world, )\n",
    "- Performance very impressive."
   ]
  },
  {
   "cell_type": "code",
   "execution_count": null,
   "id": "13ee6da8",
   "metadata": {
    "id": "13ee6da8",
    "outputId": "ac825878-4ef0-452f-99d8-9ca394983c96"
   },
   "outputs": [],
   "source": [
    "df.head()"
   ]
  },
  {
   "cell_type": "code",
   "execution_count": null,
   "id": "4b992ac7",
   "metadata": {
    "id": "4b992ac7",
    "outputId": "19bd83c2-f6c0-4907-fb3b-6701d7fd4462"
   },
   "outputs": [],
   "source": [
    "df['label'].value_counts()"
   ]
  },
  {
   "cell_type": "code",
   "execution_count": null,
   "id": "f7dc571c",
   "metadata": {
    "id": "f7dc571c"
   },
   "outputs": [],
   "source": [
    "le = LabelEncoder()\n",
    "df['label'] = le.fit_transform(df['label'])"
   ]
  },
  {
   "cell_type": "code",
   "execution_count": null,
   "id": "3fe66e31",
   "metadata": {
    "id": "3fe66e31",
    "outputId": "a59eac61-c487-44f2-9112-a6d18f3f4196"
   },
   "outputs": [],
   "source": [
    "df.head()"
   ]
  },
  {
   "cell_type": "code",
   "execution_count": null,
   "id": "14ed2f94",
   "metadata": {
    "id": "14ed2f94"
   },
   "outputs": [],
   "source": [
    "msg = ['Hi I have reached home', 'You have won a lottery of 1 Lakh rupees' , 'How are you' , 'Good morning',\n",
    "      'Hi this is Shivam from ML batch', 'Congratulations you have won a lottery',\n",
    "       'Good morning morning']"
   ]
  },
  {
   "cell_type": "code",
   "execution_count": null,
   "id": "e189e7f3",
   "metadata": {
    "id": "e189e7f3",
    "outputId": "bcd8e810-6c8a-4169-88da-265684c76f81"
   },
   "outputs": [],
   "source": [
    "msg"
   ]
  },
  {
   "cell_type": "code",
   "execution_count": null,
   "id": "071df7e5",
   "metadata": {
    "id": "071df7e5",
    "outputId": "909bc083-0fa6-49ea-dd8a-a2fb690299b8"
   },
   "outputs": [],
   "source": [
    "cv = CountVectorizer() #IMPORTANT\n",
    "cv.fit(msg)"
   ]
  },
  {
   "cell_type": "code",
   "execution_count": null,
   "id": "f15ba6cc",
   "metadata": {
    "id": "f15ba6cc",
    "outputId": "aa814f1e-0ea8-4887-f08b-1ff8fef38060"
   },
   "outputs": [],
   "source": [
    "cv.get_feature_names()"
   ]
  },
  {
   "cell_type": "code",
   "execution_count": null,
   "id": "dfc4e78c",
   "metadata": {
    "id": "dfc4e78c"
   },
   "outputs": [],
   "source": [
    "words = cv.get_feature_names()"
   ]
  },
  {
   "cell_type": "code",
   "execution_count": null,
   "id": "d687fe02",
   "metadata": {
    "id": "d687fe02"
   },
   "outputs": [],
   "source": [
    "matrix = cv.transform(msg).toarray()"
   ]
  },
  {
   "cell_type": "code",
   "execution_count": null,
   "id": "01fb379b",
   "metadata": {
    "id": "01fb379b"
   },
   "outputs": [],
   "source": [
    "df_eg = pd.DataFrame(data = matrix , columns = words)"
   ]
  },
  {
   "cell_type": "code",
   "execution_count": null,
   "id": "421c16d8",
   "metadata": {
    "id": "421c16d8",
    "outputId": "2c755c0a-82f6-4801-c86b-6a0dfa82949d"
   },
   "outputs": [],
   "source": [
    "df_eg.head()"
   ]
  },
  {
   "cell_type": "markdown",
   "id": "12eeaeb4",
   "metadata": {
    "id": "12eeaeb4"
   },
   "source": [
    "## Count Vector Implementation on SMS data"
   ]
  },
  {
   "cell_type": "code",
   "execution_count": null,
   "id": "e335917b",
   "metadata": {
    "id": "e335917b",
    "outputId": "45bccdc6-6139-494a-cefc-ed3602fea06e"
   },
   "outputs": [],
   "source": [
    "df.info()"
   ]
  },
  {
   "cell_type": "code",
   "execution_count": null,
   "id": "4899ca6a",
   "metadata": {
    "id": "4899ca6a"
   },
   "outputs": [],
   "source": [
    "cv = CountVectorizer()"
   ]
  },
  {
   "cell_type": "code",
   "execution_count": null,
   "id": "ed22eee4",
   "metadata": {
    "id": "ed22eee4"
   },
   "outputs": [],
   "source": [
    "x = df['message']\n",
    "y = df['label']"
   ]
  },
  {
   "cell_type": "code",
   "execution_count": null,
   "id": "c6bc0d96",
   "metadata": {
    "id": "c6bc0d96",
    "outputId": "a0adbf5b-6545-447f-c736-c3b891329b84"
   },
   "outputs": [],
   "source": [
    "cv.fit(x)"
   ]
  },
  {
   "cell_type": "code",
   "execution_count": null,
   "id": "16128f4c",
   "metadata": {
    "id": "16128f4c"
   },
   "outputs": [],
   "source": [
    "unique_words = cv.get_feature_names() #unique words - unique words in the data"
   ]
  },
  {
   "cell_type": "code",
   "execution_count": null,
   "id": "71a4da11",
   "metadata": {
    "id": "71a4da11"
   },
   "outputs": [],
   "source": [
    "count = cv.transform(x).toarray() #array means 1 and 0"
   ]
  },
  {
   "cell_type": "code",
   "execution_count": null,
   "id": "dba965a4",
   "metadata": {
    "id": "dba965a4",
    "outputId": "3500b999-1f2d-4e81-84a7-3c9dc6e1a45c"
   },
   "outputs": [],
   "source": [
    "len(unique_words)"
   ]
  },
  {
   "cell_type": "code",
   "execution_count": null,
   "id": "59468dbc",
   "metadata": {
    "id": "59468dbc"
   },
   "outputs": [],
   "source": [
    "df_message = pd.DataFrame(data = count , columns = unique_words)"
   ]
  },
  {
   "cell_type": "code",
   "execution_count": null,
   "id": "d874cd89",
   "metadata": {
    "id": "d874cd89",
    "outputId": "88719e7e-e9ec-4503-c7e9-c892a7574748"
   },
   "outputs": [],
   "source": [
    "df_message"
   ]
  },
  {
   "cell_type": "code",
   "execution_count": null,
   "id": "d9ca3a93",
   "metadata": {
    "id": "d9ca3a93"
   },
   "outputs": [],
   "source": [
    "x_train , x_test, y_train, y_test = train_test_split(df_message , y, test_size=0.3, random_state = 3)"
   ]
  },
  {
   "cell_type": "code",
   "execution_count": null,
   "id": "d7b0b27e",
   "metadata": {
    "id": "d7b0b27e"
   },
   "outputs": [],
   "source": [
    "nb = MultinomialNB()"
   ]
  },
  {
   "cell_type": "code",
   "execution_count": null,
   "id": "e98b4d2c",
   "metadata": {
    "id": "e98b4d2c",
    "outputId": "aef2d75f-55cd-4e0a-8044-d77da840ede3"
   },
   "outputs": [],
   "source": [
    "nb.fit(x_train, y_train) #we fit our model on x_train and y_train"
   ]
  },
  {
   "cell_type": "code",
   "execution_count": null,
   "id": "31a128e6",
   "metadata": {
    "id": "31a128e6"
   },
   "outputs": [],
   "source": [
    "y_pred = nb.predict(x_test) #we use x test to predict the y"
   ]
  },
  {
   "cell_type": "code",
   "execution_count": null,
   "id": "dd6cd14f",
   "metadata": {
    "id": "dd6cd14f",
    "outputId": "376b6eba-87b8-40f4-c122-89448179b7a4"
   },
   "outputs": [],
   "source": [
    "accuracy_score(y_test, y_pred) #97%"
   ]
  },
  {
   "cell_type": "code",
   "execution_count": null,
   "id": "uhSWa8NY440r",
   "metadata": {
    "id": "uhSWa8NY440r"
   },
   "outputs": [],
   "source": []
  }
 ],
 "metadata": {
  "colab": {
   "include_colab_link": true,
   "provenance": []
  },
  "kernelspec": {
   "display_name": "Python 3 (ipykernel)",
   "language": "python",
   "name": "python3"
  },
  "language_info": {
   "codemirror_mode": {
    "name": "ipython",
    "version": 3
   },
   "file_extension": ".py",
   "mimetype": "text/x-python",
   "name": "python",
   "nbconvert_exporter": "python",
   "pygments_lexer": "ipython3",
   "version": "3.12.4"
  }
 },
 "nbformat": 4,
 "nbformat_minor": 5
}
